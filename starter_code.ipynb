{
 "cells": [
  {
   "cell_type": "markdown",
   "metadata": {},
   "source": [
    "# Starter Code\n",
    "\n",
    "**Feel free to copy and paste this code. Note: Labs do not allow pasting.**\n",
    "\n",
    "## while loop\n",
    "\n",
    "Three steps to a while loop:\n",
    "* Initialize a variable (using a variable passed into a function counts as initializing)\n",
    "* Use that variable in a conditional statement (Anything corresponding to True or False)\n",
    "* Update that variable within the while loop's code block\n",
    "\n",
    "**This is the while loop \"recipee\" I introduced:**"
   ]
  },
  {
   "cell_type": "code",
   "execution_count": 1,
   "metadata": {},
   "outputs": [
    {
     "name": "stdout",
     "output_type": "stream",
     "text": [
      "0 Hello, world.\n",
      "1 Hello, world.\n",
      "2 Hello, world.\n",
      "3 Hello, world.\n",
      "4 Hello, world.\n"
     ]
    }
   ],
   "source": [
    "# Initialize a variable (or use a variable passed into a function)\n",
    "counter = 0\n",
    "\n",
    "# Use that variable in the conditional statement\n",
    "while counter < 5:\n",
    "\n",
    "    # This block of code only runs if the conditional statement is true.\n",
    "    # The \"block\" of code is everthing that is indented here\n",
    "    print(counter, 'Hello, world.')\n",
    "\n",
    "    # Update the variable used in conditional statement!\n",
    "    counter += 1"
   ]
  },
  {
   "cell_type": "markdown",
   "metadata": {},
   "source": [
    "## for loops\n",
    "\n",
    "**For loops will iterate through an iterable on element at a time. For lists and tuples, a for loop will go through the items in the list.**"
   ]
  },
  {
   "cell_type": "code",
   "execution_count": 2,
   "metadata": {},
   "outputs": [
    {
     "name": "stdout",
     "output_type": "stream",
     "text": [
      "a\n",
      "b\n",
      "c\n"
     ]
    }
   ],
   "source": [
    "my_list = ['a', 'b', 'c']\n",
    "\n",
    "for item in my_list:\n",
    "    print(item)"
   ]
  },
  {
   "cell_type": "markdown",
   "metadata": {},
   "source": [
    "**If you want to iterate by index, you will need to use the `range()` and `len()` functions. You can use `i` to reference the index. (But do not use `i` for the item! Pick something more descriptive.)**"
   ]
  },
  {
   "cell_type": "code",
   "execution_count": 3,
   "metadata": {},
   "outputs": [
    {
     "name": "stdout",
     "output_type": "stream",
     "text": [
      "0 a\n",
      "1 b\n",
      "2 c\n"
     ]
    }
   ],
   "source": [
    "my_list = ['a', 'b', 'c']\n",
    "\n",
    "for i in range(len(my_list)):\n",
    "    print(i, my_list[i])"
   ]
  },
  {
   "cell_type": "markdown",
   "metadata": {},
   "source": [
    "**Note: Also iterate by index if you need to update the items in the list.**"
   ]
  },
  {
   "cell_type": "code",
   "execution_count": 4,
   "metadata": {},
   "outputs": [
    {
     "name": "stdout",
     "output_type": "stream",
     "text": [
      "['A', 'B', 'C']\n"
     ]
    }
   ],
   "source": [
    "my_list = ['a', 'b', 'c']\n",
    "\n",
    "for i in range(len(my_list)):\n",
    "    my_list[i] = my_list[i].upper()\n",
    "    \n",
    "print(my_list)"
   ]
  },
  {
   "cell_type": "markdown",
   "metadata": {},
   "source": [
    "**Looping through a dictionary is different. The `for` statement will loop through the keys of the dictionary. You can then use the key to access the value.**"
   ]
  },
  {
   "cell_type": "code",
   "execution_count": 5,
   "metadata": {},
   "outputs": [
    {
     "name": "stdout",
     "output_type": "stream",
     "text": [
      "first : Professor\n",
      "last : Williams\n"
     ]
    }
   ],
   "source": [
    "name_dict = {'first': 'Professor', 'last': 'Williams'}\n",
    "\n",
    "for key in name_dict:\n",
    "    print(key, ':', name_dict[key])"
   ]
  },
  {
   "cell_type": "markdown",
   "metadata": {},
   "source": [
    "## if statement\n",
    "\n",
    "* The ony required part of an if statement is the initial ```if``` along with a conditional statement (and a colon)\n",
    "* An if statement can only have one ```else``` attached, no conditional. (Still need the colon.)\n",
    "* An if statement can have any number of ```elif``` statements. Just like ```if```, they require a conditional statement.\n",
    "\n",
    "**Basic `if` statement:**"
   ]
  },
  {
   "cell_type": "code",
   "execution_count": 6,
   "metadata": {},
   "outputs": [
    {
     "name": "stdout",
     "output_type": "stream",
     "text": [
      "CISC 106 is a fun class.\n"
     ]
    }
   ],
   "source": [
    "# Start with 'if', a conditional, and a colon\n",
    "cisc_106 = 'fun'\n",
    "\n",
    "if cisc_106 == 'fun':\n",
    "    print('CISC 106 is a fun class.')\n",
    "elif cisc_106 == 'hard':\n",
    "    print('CISC 106 is too hard to be fun.')\n",
    "else:\n",
    "    print('I do not have an opinion on CISC 106.')"
   ]
  },
  {
   "cell_type": "markdown",
   "metadata": {},
   "source": [
    "## Function Design Recipe\n",
    "\n",
    "**Notes:**\n",
    "* Replace '(type)' with the type of variable you are using or returning.\n",
    "  * Example: (int), (float), (str), (bool)\n",
    "* Replace 'my_function' with the name of your function\n",
    "* Replace 'a_var1' with the name of your variable\n",
    "  * Replace 'a_var2' with the name of your second variable, or remove if only one\n",
    "  * Add variables if needed\n",
    "* Replace 'return_variable_name' with the name of your return variable\n"
   ]
  },
  {
   "cell_type": "code",
   "execution_count": null,
   "metadata": {},
   "outputs": [],
   "source": [
    "def my_function(a_var1, a_var2):\n",
    "    \"\"\"\n",
    "    Description of function, start the sentence with a verb.\n",
    "    Parameters:\n",
    "        a_var1 (type)\n",
    "        a_var2 (type)\n",
    "    Returns:\n",
    "        return_variable_name (type)\n",
    "    \"\"\"\n",
    "    \n",
    "    # Generally you want to set your return variable to an initial value\n",
    "    # You do not always have to set this\n",
    "    return_variable_name = ''\n",
    "    \n",
    "    # Do some things here\n",
    "\n",
    "    # Don't forget to return a value!\n",
    "    return return_variable_name\n",
    "\n",
    "\n",
    "# Write test cases for your function. Write at least 3 asserts.\n",
    "assert my_function(my_var1, my_var2) == \n",
    "assert my_function(my_var3, my_var4) == \n",
    "assert my_function(my_var5, my_var6) == \n"
   ]
  },
  {
   "cell_type": "code",
   "execution_count": null,
   "metadata": {},
   "outputs": [],
   "source": []
  }
 ],
 "metadata": {
  "kernelspec": {
   "display_name": "Python 3",
   "language": "python",
   "name": "python3"
  },
  "language_info": {
   "codemirror_mode": {
    "name": "ipython",
    "version": 3
   },
   "file_extension": ".py",
   "mimetype": "text/x-python",
   "name": "python",
   "nbconvert_exporter": "python",
   "pygments_lexer": "ipython3",
   "version": "3.6.6"
  }
 },
 "nbformat": 4,
 "nbformat_minor": 2
}

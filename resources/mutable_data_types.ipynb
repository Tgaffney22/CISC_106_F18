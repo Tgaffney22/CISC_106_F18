{
 "cells": [
  {
   "cell_type": "markdown",
   "metadata": {},
   "source": [
    "# Mutable data types\n",
    "\n",
    "[![Binder](https://mybinder.org/badge.svg)](https://mybinder.org/v2/gh/enactdev/CISC_106_F18/master?filepath=resources/lists.ipynb)\n",
    "\n",
    "**Lists and dictionaries are mutable. All other data types we use in this class are immutable, and you need to understand the distinction. These examples use lists, but dictionaries work similarly.**\n",
    "\n",
    "**There are two important things to remember about mutable data types:**\n",
    "* **You can edit the original object.**\n",
    "* **Assignment operators (=) assign reference, not value.**\n",
    "    * **Multiple variables can reference the same object.**\n",
    "    * **You need to explicitly copy the list if you want them to be different objects.**\n",
    "    * **Functions basically assign arguments to parameters, thus work similarly to using '='.**\n",
    "\n",
    "## You can edit the original object.\n",
    "\n",
    "**You may think that you have already edited the value of objects, but you have not.**\n",
    "\n",
    "**This *does not* change the value of the variable ```a```:**"
   ]
  },
  {
   "cell_type": "code",
   "execution_count": 62,
   "metadata": {},
   "outputs": [
    {
     "name": "stdout",
     "output_type": "stream",
     "text": [
      "6\n"
     ]
    }
   ],
   "source": [
    "a = 5\n",
    "a += 1\n",
    "print(a)"
   ]
  },
  {
   "cell_type": "markdown",
   "metadata": {},
   "source": [
    "**What that does is destroy the original variable ```a``` and create a new variable that also happens to also be called ```a```. To see that in action, we will use the function ```id()``` which returns the internal Python identification for a variable.**\n",
    "\n",
    "**Note how the value returned by ```id()``` changes when we destroy the old variable ```a``` and create a new variable ```a```.**"
   ]
  },
  {
   "cell_type": "code",
   "execution_count": 63,
   "metadata": {
    "scrolled": true
   },
   "outputs": [
    {
     "name": "stdout",
     "output_type": "stream",
     "text": [
      "Original id: 10965024\n",
      "New id: 10965056\n"
     ]
    }
   ],
   "source": [
    "a = 5\n",
    "print('Original id:', id(a))\n",
    "a += 1\n",
    "print('New id:', id(a))"
   ]
  },
  {
   "cell_type": "markdown",
   "metadata": {},
   "source": [
    "**The ids changes because the second ```a``` is a new variable. It just happens to be named the same, and its value is an increment of the old variable.**\n",
    "\n",
    "**The power of mutable objects is that you can edit individual elements of lists, and also append (or insert) new elements, reverse, and even reorder them.**"
   ]
  },
  {
   "cell_type": "code",
   "execution_count": 65,
   "metadata": {},
   "outputs": [
    {
     "name": "stdout",
     "output_type": "stream",
     "text": [
      "id: 10965056\n",
      "id, after append: 10965056\n",
      "my_list after the reverse() method: ['d', 'c', 'b', 'a']\n",
      "id is still: 10965056\n",
      "my_list after the sort() method: ['a', 'b', 'c', 'd']\n",
      "id is still: 10965056\n",
      "my_list after the sort() method with argument reverse=True: ['d', 'c', 'b', 'a']\n",
      "id is still: 10965056\n"
     ]
    }
   ],
   "source": [
    "my_list = ['a', 'b', 'c']\n",
    "print('id:', id(a))\n",
    "\n",
    "my_list.append('d')\n",
    "print('id, after append:', id(a))\n",
    "\n",
    "my_list.reverse()\n",
    "print('my_list after the reverse() method:', my_list)\n",
    "print('id is still:', id(a))\n",
    "\n",
    "my_list.sort()\n",
    "print('my_list after the sort() method:', my_list)\n",
    "print('id is still:', id(a))\n",
    "\n",
    "my_list.sort(reverse=True)\n",
    "print('my_list after the sort() method with argument reverse=True:', my_list)\n",
    "print('id is still:', id(a))"
   ]
  },
  {
   "cell_type": "markdown",
   "metadata": {},
   "source": [
    "**Note that the above methods return the value ```None```, so you *do not* want to assign the return value back to the variable name. You will loose your variable value!**"
   ]
  },
  {
   "cell_type": "code",
   "execution_count": 67,
   "metadata": {},
   "outputs": [
    {
     "name": "stdout",
     "output_type": "stream",
     "text": [
      "id: 10965056\n",
      "You do not want the value of my_list to be: None\n"
     ]
    }
   ],
   "source": [
    "my_list = ['a', 'b', 'c']\n",
    "print('id:', id(a))\n",
    "\n",
    "# Don't do this!\n",
    "my_list = my_list.append('d')\n",
    "\n",
    "print('You do not want the value of my_list to be:', my_list)"
   ]
  },
  {
   "cell_type": "markdown",
   "metadata": {},
   "source": [
    "## With mutable data types, assignment operators (=) assign reference, not value.\n",
    "\n",
    "### Multiple variables can reference the same object."
   ]
  },
  {
   "cell_type": "code",
   "execution_count": 53,
   "metadata": {
    "scrolled": true
   },
   "outputs": [
    {
     "name": "stdout",
     "output_type": "stream",
     "text": [
      "id of a: 140170888677320\n",
      "id of b: 140170888677320\n",
      "values in a: ['a', 'B', 'c']\n",
      "my_list_a == my_list_b True\n",
      "my_list_a is my_list_b True\n"
     ]
    }
   ],
   "source": [
    "my_list_a = ['a', 'b', 'c']\n",
    "my_list_b = my_list_a\n",
    "\n",
    "# my_list_a and my_list_b point to the same object. \n",
    "# This line will change the object pointed to by both\n",
    "my_list_b[1] = my_list_b[1].upper()\n",
    "\n",
    "print('id of a:', id(my_list_a))\n",
    "print('id of b:', id(my_list_b))\n",
    "print('values in a:', my_list_a)\n",
    "print('my_list_a == my_list_b', my_list_a == my_list_b)\n",
    "print('my_list_a is my_list_b', my_list_a is my_list_b)"
   ]
  },
  {
   "cell_type": "markdown",
   "metadata": {},
   "source": [
    "### You need to explicitly copy mutable objects.\n",
    "\n",
    "**If you do not want ```my_list_b``` to point to the same object as ```my_list_a```, then you need to copy ```my_list_a```**"
   ]
  },
  {
   "cell_type": "code",
   "execution_count": 44,
   "metadata": {},
   "outputs": [
    {
     "name": "stdout",
     "output_type": "stream",
     "text": [
      "id of a: 140170889061192\n",
      "id of b: 140170888534152\n",
      "values in a: ['a', 'b', 'c']\n",
      "my_list_a == my_list_b False\n"
     ]
    }
   ],
   "source": [
    "my_list_a = ['a', 'b', 'c']\n",
    "my_list_b = my_list_a.copy()\n",
    "\n",
    "# my_list_a and my_list_ point to *different* objects. \n",
    "# This line will only change my_list_b\n",
    "my_list_b[1] = my_list_b[1].upper()\n",
    "\n",
    "print('id of a:', id(my_list_a))\n",
    "print('id of b:', id(my_list_b))\n",
    "print('values in a:', my_list_a)\n",
    "print('my_list_a == my_list_b', my_list_a == my_list_b)"
   ]
  },
  {
   "cell_type": "markdown",
   "metadata": {},
   "source": [
    "**Just to confuse things, different string variables can point to the same object:**"
   ]
  },
  {
   "cell_type": "code",
   "execution_count": 45,
   "metadata": {},
   "outputs": [
    {
     "name": "stdout",
     "output_type": "stream",
     "text": [
      "id of a: 10965024\n",
      "id of b: 10965024\n"
     ]
    }
   ],
   "source": [
    "a = 5\n",
    "b = a\n",
    "print('id of a:', id(a))\n",
    "print('id of b:', id(b))\n"
   ]
  },
  {
   "cell_type": "markdown",
   "metadata": {},
   "source": [
    "**But, as soon as you reasign a variable, they will have different ids:**"
   ]
  },
  {
   "cell_type": "code",
   "execution_count": 46,
   "metadata": {},
   "outputs": [
    {
     "name": "stdout",
     "output_type": "stream",
     "text": [
      "id of a: 10965088\n",
      "id of b: 10965024\n"
     ]
    }
   ],
   "source": [
    "a = 5\n",
    "b = a\n",
    "a = 7\n",
    "print('id of a:', id(a))\n",
    "print('id of b:', id(b))\n"
   ]
  },
  {
   "cell_type": "markdown",
   "metadata": {},
   "source": [
    "**This is true for lists too.** \n",
    "\n",
    "**Anytime you say a variable is something new, it only affects that variable, not anything else that happened to be pointing to the same origingal object.**"
   ]
  },
  {
   "cell_type": "code",
   "execution_count": 48,
   "metadata": {},
   "outputs": [
    {
     "name": "stdout",
     "output_type": "stream",
     "text": [
      "id of a: 140170889061192\n",
      "id of b: 140170888533576\n"
     ]
    }
   ],
   "source": [
    "my_list_a = ['a', 'b', 'c']\n",
    "my_list_b = my_list_a\n",
    "my_list_a = ['d', 'e', 'f']\n",
    "\n",
    "print('id of a:', id(my_list_a))\n",
    "print('id of b:', id(my_list_b))"
   ]
  },
  {
   "cell_type": "markdown",
   "metadata": {},
   "source": [
    "### Functions basically assign arguments to parameters, thus work similarly to using '='.\n",
    "\n",
    "**Remember that with mutable data types, functions can mutate the object:**"
   ]
  },
  {
   "cell_type": "code",
   "execution_count": 54,
   "metadata": {},
   "outputs": [
    {
     "name": "stdout",
     "output_type": "stream",
     "text": [
      "['a', 'b', 'c', 'd']\n"
     ]
    }
   ],
   "source": [
    "def append_d_to_list(a_list):\n",
    "    a_list.append('d')\n",
    "    \n",
    "my_list_a = ['a', 'b', 'c']\n",
    "append_d_to_list(my_list_a)\n",
    "\n",
    "print(my_list_a)"
   ]
  },
  {
   "cell_type": "markdown",
   "metadata": {},
   "source": [
    "**In the example above, ```my_list_a``` and ```a_list``` both pointed to the same object. But, just like with variables, if the function creates a new object and assigns it to the local variable (```a_list``` here) then that will not affect the other variables pointing to the original object.**"
   ]
  },
  {
   "cell_type": "code",
   "execution_count": 59,
   "metadata": {},
   "outputs": [
    {
     "name": "stdout",
     "output_type": "stream",
     "text": [
      "id of my_list_a starts at: 140170888534664\n",
      "id of a_list: 140170888534664\n",
      "new id of a_list: 140170888534920\n",
      "id of my_list_a is still: 140170888534664\n",
      "['a', 'b', 'c']\n"
     ]
    }
   ],
   "source": [
    "def reasign_local_list(a_list):\n",
    "    print('id of a_list:', id(a_list))\n",
    "    a_list = ['A', 'B', 'C']\n",
    "    print('new id of a_list:', id(a_list))\n",
    "    \n",
    "my_list_a = ['a', 'b', 'c']\n",
    "print('id of my_list_a starts at:', id(my_list_a))\n",
    "reasign_local_list(my_list_a)\n",
    "print('id of my_list_a is still:', id(my_list_a))\n",
    "\n",
    "print(my_list_a)"
   ]
  },
  {
   "cell_type": "code",
   "execution_count": null,
   "metadata": {},
   "outputs": [],
   "source": []
  }
 ],
 "metadata": {
  "kernelspec": {
   "display_name": "Python 3",
   "language": "python",
   "name": "python3"
  },
  "language_info": {
   "codemirror_mode": {
    "name": "ipython",
    "version": 3
   },
   "file_extension": ".py",
   "mimetype": "text/x-python",
   "name": "python",
   "nbconvert_exporter": "python",
   "pygments_lexer": "ipython3",
   "version": "3.6.6"
  }
 },
 "nbformat": 4,
 "nbformat_minor": 2
}

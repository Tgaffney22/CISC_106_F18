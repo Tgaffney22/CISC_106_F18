{
 "cells": [
  {
   "cell_type": "markdown",
   "metadata": {},
   "source": [
    "# Practice Test 1 -- Written\n",
    "\n",
    "**Real test during class on Th. Oct. 4**\n",
    "\n",
    "**Cell below imports the assertEqual function. Do not change it.**"
   ]
  },
  {
   "cell_type": "code",
   "execution_count": 1,
   "metadata": {},
   "outputs": [],
   "source": [
    "# Leave this alone\n",
    "from cisc106 import assertEqual"
   ]
  },
  {
   "cell_type": "markdown",
   "metadata": {},
   "source": [
    "---\n",
    "\n",
    "**3 Points:**\n",
    "\n",
    "**Given: A variable ```user_age``` has already been declared. It is a positive integer, but you do not know the value.** \n",
    "\n",
    "**Given: The legal driving age is 17.**\n",
    "\n",
    "**Some code has been written, you need to finish it. Write an if statement that checks if the age held in ```user_age``` is old enough to drive. If so use the input() function to ask if they have their drivers license. If they type 'yes' then set a new variable  called ```has_drivers_license``` to ```True```. If they type anything else set it to ```False```**\n",
    "\n",
    "**If they are not old enough to drive, set ```has_drivers_license``` to ```False```.**"
   ]
  },
  {
   "cell_type": "code",
   "execution_count": 2,
   "metadata": {},
   "outputs": [
    {
     "name": "stdout",
     "output_type": "stream",
     "text": [
      "Do you have your drivers licence? Yes\n"
     ]
    },
    {
     "data": {
      "text/plain": [
       "True"
      ]
     },
     "execution_count": 2,
     "metadata": {},
     "output_type": "execute_result"
    }
   ],
   "source": [
    "# Added so below works\n",
    "user_age = 19\n",
    "\n",
    "# Set variable has_drivers_license to an initial value:\n",
    "has_drivers_license = False\n",
    "\n",
    "# Check whether age value in variable user_age is old enough to drive. \n",
    "if user_age >= 17:\n",
    "    \n",
    "    # User is old enough. Ask them if they have their drivers licence:\n",
    "    has_drivers_license = input('Do you have your drivers licence? ')\n",
    "    \n",
    "    # Check whether user said 'yes'\n",
    "    # You do not have to call the .lower() method on the test, it was extra validation\n",
    "    # offered by a student in class.\n",
    "    if has_drivers_license.lower() == 'yes':\n",
    "        \n",
    "        # Set variable has_drivers_license\n",
    "        has_drivers_license = True\n",
    "        \n",
    "    else: \n",
    "        \n",
    "        # Set variable has_drivers_license\n",
    "        has_drivers_license = False\n",
    "        \n",
    "else:\n",
    "    # User is not old enough to drive. Set has_drivers_license to appropriate value\n",
    "    has_drivers_license = False\n",
    "    \n",
    "has_drivers_license"
   ]
  },
  {
   "cell_type": "markdown",
   "metadata": {},
   "source": [
    "---\n",
    "\n",
    "**8 Points:**\n",
    "\n",
    "**Debug the provided Function Design Recipe. The Docstring comments will be completely correct. Use the problem definition and the Docstring to fix the rest of the code (including the assertEqual statements if applicable). There will be 4 things wrong. You'll get 1 point for finding it (circle it), 1 point for properly correcting it.**\n",
    "\n",
    "**Let's write a function that calculates the cost of admission to an amusement park.**\n",
    "\n",
    "**New: If someone has a coupon they save 25%**\n",
    "\n",
    "**Goal: Try to find and fix all four errors before running the code. You obviously will not be able to run the code during the exam, and running it makes the errors *much* easier to find.**\n",
    "\n",
    "* Admission for children under age 6 is free.\n",
    "* Admission for children between the ages of 6 and less than 18 is \\$20.\n",
    "* Admission for anyone age 18 or older is \\$35.\n",
    "* Except: Admission for senior citizens 65 and older is \\$17.5\n"
   ]
  },
  {
   "cell_type": "code",
   "execution_count": null,
   "metadata": {},
   "outputs": [],
   "source": [
    "# This is the original with 5 errors (sorry I miscounted)\n",
    "\n",
    "def calculate_admission(age, has_coupon):\n",
    "    \"\"\"\n",
    "    Calculates the admission depending on the age of the customer and whether they have a coupon.\n",
    "    Parameters:\n",
    "        age (int)\n",
    "        has_coupon(bool)\n",
    "    Returns:\n",
    "        price (float)\n",
    "    \"\"\"\n",
    "    \n",
    "    # Set price to an initial value\n",
    "    price = 0\n",
    "\n",
    "    \n",
    "    # Calculate price\n",
    "    if age < 6:\n",
    "        price = 0\n",
    "    elif (age > 6) and (age < 18):\n",
    "        price = 20\n",
    "    elif (age >= 18) and (age < 65):\n",
    "        price = 35\n",
    "    elif (age >= 65):\n",
    "        price == 17.5\n",
    "        \n",
    "    # Check if user has a coupon\n",
    "    if has_coupon:\n",
    "        price = price * 0.25\n",
    "\n",
    "\n",
    "\n",
    "# Write test cases for your function.\n",
    "assertEqual(calculate_admission(3, False),  0)\n",
    "assertEqual(calculate_admission(6, True),  (20 * 0.75))\n",
    "assertEqual(calculate_admission(19, False),  30)\n",
    "assertEqual(calculate_admission(72, True),  (17.5 * 0.75))\n"
   ]
  },
  {
   "cell_type": "code",
   "execution_count": 5,
   "metadata": {},
   "outputs": [
    {
     "name": "stdout",
     "output_type": "stream",
     "text": [
      "SUCCESS - [line 41] assertEqual(calculate_admission(3, False),  0)\n",
      "SUCCESS - [line 42] assertEqual(calculate_admission(6, True),  (20 * 0.75))\n",
      "SUCCESS - [line 43] assertEqual(calculate_admission(19, False),  35) # Fixed price for adults\n",
      "SUCCESS - [line 44] assertEqual(calculate_admission(72, True),  (17.5 * 0.75))\n"
     ]
    },
    {
     "data": {
      "text/plain": [
       "True"
      ]
     },
     "execution_count": 5,
     "metadata": {},
     "output_type": "execute_result"
    }
   ],
   "source": [
    "# This is the fixed version with the 5 errors corrected (sorry I miscounted)\n",
    "\n",
    "def calculate_admission(age, has_coupon):\n",
    "    \"\"\"\n",
    "    Calculates the admission depending on the age of the customer and whether they have a coupon.\n",
    "    Parameters:\n",
    "        age (int)\n",
    "        has_coupon(bool)\n",
    "    Returns:\n",
    "        price (float)\n",
    "    \"\"\"\n",
    "    \n",
    "    # Set price to an initial value\n",
    "    price = 0\n",
    "\n",
    "    \n",
    "    # Calculate price\n",
    "    if age < 6:\n",
    "        price = 0\n",
    "    elif (age >= 6) and (age < 18):\n",
    "        # Fixed, >= 6 above (was age > 6 thus making the if statement skip people who are exactly 6)\n",
    "        price = 20\n",
    "    elif (age >= 18) and (age < 65):\n",
    "        price = 35\n",
    "    elif (age >= 65):\n",
    "        # Fixed variable assignment, was using equality (price == 17.5)\n",
    "        price = 17.5\n",
    "        \n",
    "    # Check if user has a coupon\n",
    "    if has_coupon:\n",
    "        # Fixed -- Was taking off 75% (price = price * 0.25)\n",
    "        price = price * 0.75\n",
    "        \n",
    "    # Fixed -- Added return statement. Remember, functions that do not explicitly return something\n",
    "    # return None\n",
    "    return price\n",
    "\n",
    "\n",
    "\n",
    "# Write test cases for your function.\n",
    "assertEqual(calculate_admission(3, False),  0)\n",
    "assertEqual(calculate_admission(6, True),  (20 * 0.75))\n",
    "assertEqual(calculate_admission(19, False),  35) # Fixed price for adults\n",
    "assertEqual(calculate_admission(72, True),  (17.5 * 0.75))\n"
   ]
  },
  {
   "cell_type": "markdown",
   "metadata": {},
   "source": [
    "---\n",
    "**10 Points**\n",
    "\n",
    "**Given a description, write a full Function Design Recipe -- 3 points for the Docstring comments, 4 points for the assertEqual statements (write 4), and 3 for a working function. You can use the Docstring comments in the previous question as a template**\n",
    "\n",
    "**Your function will accept two arguments and return a single numerical value. You can assume the arguments are always positive integers. For full credit make sure your function and variables names are descriptive.**\n",
    "\n",
    "**Problem description: Mary is a tax accountant and wants to make sure her clients get as much of a tax break as possible. The goverment gives a \\$1,250 tax credit for every child under the age of 18, and \\$1,000 for all other dependants. She has hired you to write a function that returns the amount of tax break a client receives based on the number of children under 18 and the number of other dependants.**\n"
   ]
  },
  {
   "cell_type": "code",
   "execution_count": 6,
   "metadata": {},
   "outputs": [
    {
     "name": "stdout",
     "output_type": "stream",
     "text": [
      "SUCCESS - [line 19] assertEqual(tax_break(0, 0), 0)\n",
      "SUCCESS - [line 20] assertEqual(tax_break(1, 1), 2250)\n",
      "SUCCESS - [line 21] assertEqual(tax_break(1, 0), 1250)\n",
      "SUCCESS - [line 22] assertEqual(tax_break(0, 1), 1000)\n"
     ]
    },
    {
     "data": {
      "text/plain": [
       "True"
      ]
     },
     "execution_count": 6,
     "metadata": {},
     "output_type": "execute_result"
    }
   ],
   "source": [
    "# Write you function with Docstring here.\n",
    "def tax_break(children_under_18, other_dependents):\n",
    "    \"\"\"\n",
    "    Function returns the amount of tax break based on children and dependents\n",
    "    Parameters:\n",
    "        children_under_18 (int)\n",
    "        other_dependents (int)\n",
    "    Returns:\n",
    "        amount_of_tax_break (int)\n",
    "    \"\"\"\n",
    "    \n",
    "    amount_of_tax_break = (1250 * children_under_18) + (1000 * other_dependents)\n",
    "    \n",
    "    return amount_of_tax_break\n",
    "    \n",
    "\n",
    "# Write 4 assertEqual statements that test your function. One should test both arguments being 0, at least \n",
    "# one should test when both arguments are greater than zero, the other two are your choice.\n",
    "assertEqual(tax_break(0, 0), 0)\n",
    "assertEqual(tax_break(1, 1), 2250)\n",
    "assertEqual(tax_break(1, 0), 1250)\n",
    "assertEqual(tax_break(0, 1), 1000)"
   ]
  },
  {
   "cell_type": "code",
   "execution_count": 11,
   "metadata": {},
   "outputs": [],
   "source": [
    "# To prove the last function works, I have to create an is_prime() function. This is not part of the solution.\n",
    "def is_prime(n):\n",
    "    \n",
    "    # 2 is prime, and is the only prime number evenly divisible by 2, so just return True if n is 2\n",
    "    if n == 2:\n",
    "        return True\n",
    "    \n",
    "    # Test every number from 2 to n - 1 to see if it is evenly divisible into n\n",
    "    test_int = 2\n",
    "    \n",
    "    while test_int < n:\n",
    "        \n",
    "        # If n is evenly divisible by test_int then n is not a prime number\n",
    "        if (n % test_int) == 0:\n",
    "            return False\n",
    "        \n",
    "        # Increment test_int\n",
    "        test_int += 1\n",
    "        \n",
    "    # If no number between 2 and n-1 was evenly divisible into n then n is a prime\n",
    "    return True"
   ]
  },
  {
   "cell_type": "markdown",
   "metadata": {},
   "source": [
    "---\n",
    "**4 Points -- This is the hardest question on the test. Attempt it last.**\n",
    "\n",
    "**A Function Design Recipe has been started for you, and the Docstring and assertEqual statements are finished and correct. However, you need to finish the function with a while loop**\n",
    "\n",
    "**Prime number defintion: A prime number is an integer greater than 1 whose only factors are 1 and itself.**\n",
    "* Example, 2 and 3 are both primes because they have no other factors other than 1 and itself.\n",
    "* 4 is not a prime, because it has a factor of 2\n",
    "* 5 is a prime because the only factors are 1 and 5\n",
    "* 6 is not a prime becuase it also has factors of 2 and 3\n",
    "\n",
    "**You will use:**\n",
    "* A function called is_prime() has already been written. It takes an integer as an argument, and returns ```True``` if the integer is a prime number, otherwise ```False```. \n",
    "* The built-in Python function len() takes a list as an argument and returns the length of the list. Example: ```len([1, 2, 3])``` will return ```3```\n",
    "* The list method append() will add an element to the list and return ```None```. Your line using the append() method will look like this, and will not have an ```=``` sign on it:\n",
    "    * ```my_list_name.append('new list item')```\n",
    "\n",
    "**Finish the function ```first_n_primes()``` that takes an integer n as a parameter and returns the first n prime numbers. You can assume that ```n``` is always a positive integer.**\n"
   ]
  },
  {
   "cell_type": "code",
   "execution_count": 12,
   "metadata": {},
   "outputs": [
    {
     "name": "stdout",
     "output_type": "stream",
     "text": [
      "SUCCESS - [line 34] assertEqual(first_n_primes(1), [2])\n",
      "SUCCESS - [line 35] assertEqual(first_n_primes(2), [2, 3])\n",
      "SUCCESS - [line 36] assertEqual(first_n_primes(5), [2, 3, 5, 7, 11])\n"
     ]
    },
    {
     "data": {
      "text/plain": [
       "True"
      ]
     },
     "execution_count": 12,
     "metadata": {},
     "output_type": "execute_result"
    }
   ],
   "source": [
    "def first_n_primes(n):\n",
    "    \"\"\"\n",
    "    Return a list of the first n prime numbers for a given positive integer n.\n",
    "    Parameters:\n",
    "        n (int)\n",
    "    Returns:\n",
    "        n_prime_list (list)\n",
    "    \"\"\"\n",
    "    \n",
    "    # Create an empty list\n",
    "    n_prime_list = []\n",
    "    \n",
    "    # Instantiate a variable to count from 2 up until we have enough prime numbers\n",
    "    # I am instantiating to 2 because 2 is the first prime number\n",
    "    test_int = 2\n",
    "    \n",
    "    # Use a while loop to create the n_prime_list list\n",
    "    while len(n_prime_list) < n:\n",
    "        \n",
    "        # Check if test_int is prime\n",
    "        if is_prime(test_int):\n",
    "            \n",
    "            # test_int is a prime number, append it to the list\n",
    "            n_prime_list.append(test_int)\n",
    "            \n",
    "        # Increment test_int\n",
    "        test_int += 1\n",
    "    \n",
    "    return n_prime_list\n",
    "\n",
    "\n",
    "# Write test cases for your function.\n",
    "# These are correct, you can use them to work through the function\n",
    "assertEqual(first_n_primes(1), [2])\n",
    "assertEqual(first_n_primes(2), [2, 3])\n",
    "assertEqual(first_n_primes(5), [2, 3, 5, 7, 11])\n"
   ]
  }
 ],
 "metadata": {
  "kernelspec": {
   "display_name": "Python 3",
   "language": "python",
   "name": "python3"
  },
  "language_info": {
   "codemirror_mode": {
    "name": "ipython",
    "version": 3
   },
   "file_extension": ".py",
   "mimetype": "text/x-python",
   "name": "python",
   "nbconvert_exporter": "python",
   "pygments_lexer": "ipython3",
   "version": "3.6.6"
  }
 },
 "nbformat": 4,
 "nbformat_minor": 2
}

{
 "cells": [
  {
   "cell_type": "markdown",
   "metadata": {},
   "source": [
    "# Solutions to In-class workbook from September 27, 2018\n",
    "\n",
    "[![Binder](https://mybinder.org/badge.svg)](https://mybinder.org/v2/gh/enactdev/CISC_106_F18/master?filepath=week_05_sept_25_27/workbook_solutions_-_2018_09_27.ipynb)\n",
    "\n",
    "**Reference the [starter code examples](https://github.com/enactdev/CISC_106_F18/blob/master/starter_code.ipynb) on while loops**\n"
   ]
  },
  {
   "cell_type": "markdown",
   "metadata": {},
   "source": [
    "---\n",
    "\n",
    "**Write a while loop that prints every third element of a list, starting with the first element. The list and a variable holding the first index has been started for you.**"
   ]
  },
  {
   "cell_type": "code",
   "execution_count": 1,
   "metadata": {},
   "outputs": [
    {
     "name": "stdout",
     "output_type": "stream",
     "text": [
      "0\n",
      "3\n",
      "6\n",
      "9\n",
      "12\n",
      "15\n",
      "18\n",
      "21\n",
      "24\n",
      "27\n"
     ]
    }
   ],
   "source": [
    "# Create a list of numbers from 0 to 29:\n",
    "list_0_to_30 = list(range(30))\n",
    "\n",
    "# Set i to 0\n",
    "i = 0\n",
    "\n",
    "# Write the while loop that will print every third number (starting with the first element)\n",
    "# Should print these numbers, one per line: 0, 3, 6, 9, 12, 15, 18, 21, 24, 27\n",
    "while i < 30:\n",
    "    print(i)\n",
    "    # Increment by 3 since we are printing every 3rd number\n",
    "    i += 3"
   ]
  },
  {
   "cell_type": "code",
   "execution_count": 2,
   "metadata": {},
   "outputs": [
    {
     "name": "stdout",
     "output_type": "stream",
     "text": [
      "0\n",
      "3\n",
      "6\n",
      "9\n",
      "12\n",
      "15\n",
      "18\n",
      "21\n",
      "24\n",
      "27\n"
     ]
    }
   ],
   "source": [
    "# Now use range(start, stop, step) and a for loop to print the same thing. \n",
    "for i in range(0, 30, 3):\n",
    "    print(i)"
   ]
  },
  {
   "cell_type": "markdown",
   "metadata": {},
   "source": [
    "**Create an empty list named ```shopping_list```. Ask the user for an item to add to the list, and tell them to write 'done' when they are finished. Write a while loop that continues to ask for items until the user types 'done' and calls the list append() method to add each item to the list. After the user types 'done' then print the list.**"
   ]
  },
  {
   "cell_type": "code",
   "execution_count": 3,
   "metadata": {},
   "outputs": [
    {
     "name": "stdout",
     "output_type": "stream",
     "text": [
      "Enter an item for your shopping list, or type \"done\" when you are finished: milk\n",
      "Enter another item for your shopping list, or type \"done\" when you are finished: eggs\n",
      "Enter another item for your shopping list, or type \"done\" when you are finished: cheese\n",
      "Enter another item for your shopping list, or type \"done\" when you are finished: bread\n",
      "Enter another item for your shopping list, or type \"done\" when you are finished: done\n"
     ]
    },
    {
     "data": {
      "text/plain": [
       "['milk', 'eggs', 'cheese', 'bread']"
      ]
     },
     "execution_count": 3,
     "metadata": {},
     "output_type": "execute_result"
    }
   ],
   "source": [
    "shopping_list = []\n",
    "\n",
    "# Reminder: You can use double quotes within a string defined with signle quotes, and vice versa\n",
    "list_item = input('Enter an item for your shopping list, or type \"done\" when you are finished: ')\n",
    "\n",
    "while list_item != 'done':\n",
    "    shopping_list.append(list_item)\n",
    "    list_item = input('Enter another item for your shopping list, or type \"done\" when you are finished: ')\n",
    "\n",
    "shopping_list"
   ]
  },
  {
   "cell_type": "code",
   "execution_count": null,
   "metadata": {},
   "outputs": [],
   "source": []
  }
 ],
 "metadata": {
  "kernelspec": {
   "display_name": "Python 3",
   "language": "python",
   "name": "python3"
  },
  "language_info": {
   "codemirror_mode": {
    "name": "ipython",
    "version": 3
   },
   "file_extension": ".py",
   "mimetype": "text/x-python",
   "name": "python",
   "nbconvert_exporter": "python",
   "pygments_lexer": "ipython3",
   "version": "3.6.6"
  }
 },
 "nbformat": 4,
 "nbformat_minor": 2
}

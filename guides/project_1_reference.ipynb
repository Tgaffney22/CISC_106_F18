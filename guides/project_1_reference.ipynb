{
 "cells": [
  {
   "cell_type": "markdown",
   "metadata": {},
   "source": [
    "# Project 1 Reference\n",
    "\n",
    "**Python does not explicitly have constants (i.e. you can always change the value of an object) but it is common practice to name constants in all uppercase letters.**\n",
    "\n",
    "**For the project, there are constants that you will reference later as a constant, and ones that will set your initial values. Example:**"
   ]
  },
  {
   "cell_type": "code",
   "execution_count": 1,
   "metadata": {},
   "outputs": [
    {
     "name": "stdout",
     "output_type": "stream",
     "text": [
      "15\n"
     ]
    }
   ],
   "source": [
    "MY_CONST_INT = 5\n",
    "MY_INITIAL_VALUE = 3\n",
    "\n",
    "# For initial values, you will set near the top of your code, and never use MY_INITIAL_VALUE again\n",
    "x = MY_INITIAL_VALUE\n",
    "\n",
    "# Lots of code later\n",
    "\n",
    "# Use MY_CONST_INT whenever you need it. For example, to update x\n",
    "x = x * MY_CONST_INT\n",
    "\n",
    "print(x)"
   ]
  },
  {
   "cell_type": "markdown",
   "metadata": {},
   "source": [
    "**There's an option to have the program run automatically, or to allow the user to control. You'll write functions that return the same thing, and call one or the other based on whether you're in automatic or manual control.**"
   ]
  },
  {
   "cell_type": "code",
   "execution_count": 2,
   "metadata": {},
   "outputs": [
    {
     "name": "stdout",
     "output_type": "stream",
     "text": [
      "5\n"
     ]
    }
   ],
   "source": [
    "def return_value_manual():\n",
    "    return_value = input('Enter what value you want to use:')\n",
    "    return int(return_value)\n",
    "\n",
    "def return_value_auto():\n",
    "    # Determine the best value to return based on an algorithm you create. For instance, maybe 5?\n",
    "    return_value = 5\n",
    "    return return_value\n",
    "\n",
    "is_manual = False\n",
    "\n",
    "if is_manual:\n",
    "    my_value = return_value_manual()\n",
    "else:\n",
    "    my_value = return_value_auto()\n",
    "\n",
    "print(my_value)"
   ]
  },
  {
   "cell_type": "markdown",
   "metadata": {},
   "source": [
    "**You're currently going to have to return multiple values from a function. Remember to use a tuple:**"
   ]
  },
  {
   "cell_type": "code",
   "execution_count": 3,
   "metadata": {},
   "outputs": [
    {
     "name": "stdout",
     "output_type": "stream",
     "text": [
      "5 7\n"
     ]
    }
   ],
   "source": [
    "def return_mult_values():\n",
    "    return (5, 7)\n",
    "\n",
    "my_value_1, my_value_2 = return_mult_values()\n",
    "\n",
    "print(my_value_1, my_value_2)"
   ]
  },
  {
   "cell_type": "markdown",
   "metadata": {},
   "source": [
    "**You're going to have to use a main() function:**"
   ]
  },
  {
   "cell_type": "code",
   "execution_count": 4,
   "metadata": {},
   "outputs": [
    {
     "name": "stdout",
     "output_type": "stream",
     "text": [
      "This is the program that you're writing, but yours will be longer.\n"
     ]
    }
   ],
   "source": [
    "def main():\n",
    "    print(\"This is the program that you're writing, but yours will be longer.\")\n",
    "    \n",
    "main()"
   ]
  }
 ],
 "metadata": {
  "kernelspec": {
   "display_name": "Python 3",
   "language": "python",
   "name": "python3"
  },
  "language_info": {
   "codemirror_mode": {
    "name": "ipython",
    "version": 3
   },
   "file_extension": ".py",
   "mimetype": "text/x-python",
   "name": "python",
   "nbconvert_exporter": "python",
   "pygments_lexer": "ipython3",
   "version": "3.6.6"
  }
 },
 "nbformat": 4,
 "nbformat_minor": 2
}

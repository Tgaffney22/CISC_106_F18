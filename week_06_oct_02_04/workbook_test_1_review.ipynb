{
 "cells": [
  {
   "cell_type": "markdown",
   "metadata": {},
   "source": [
    "# Workbook Test 1 Review\n",
    "\n",
    "[![Binder](https://mybinder.org/badge.svg)](https://mybinder.org/v2/gh/enac\n",
    "tdev/CISC_106_F18/master?filepath=week_06_oct_02_04/workbook_test_1_review.ipynb)\n",
    "\n",
    "---\n",
    "\n",
    "**Add parenthesis to the following (max of 2 elements per pair of parenthesis) to make the statement more readable while maintaining operator precedence.**\n",
    "```\n",
    "5 - 6 * 2 // 2 + 5\n",
    "```"
   ]
  },
  {
   "cell_type": "code",
   "execution_count": null,
   "metadata": {},
   "outputs": [],
   "source": []
  },
  {
   "cell_type": "markdown",
   "metadata": {},
   "source": [
    "---\n",
    "\n",
    "**Use the ```input()``` function to prompt the user for a whole number. Use the string ```isnumeric()``` method to test if the string is an integer. If so use the ```print()``` function to thank the user. If it is not a number, also use the ```print()``` statement to give the user an error message. In both instances, include what the user submitted in your message.**"
   ]
  },
  {
   "cell_type": "code",
   "execution_count": null,
   "metadata": {},
   "outputs": [],
   "source": []
  },
  {
   "cell_type": "markdown",
   "metadata": {},
   "source": [
    "---\n",
    "\n",
    "**Round 3.14 to one decimal place**"
   ]
  },
  {
   "cell_type": "code",
   "execution_count": null,
   "metadata": {},
   "outputs": [],
   "source": []
  },
  {
   "cell_type": "markdown",
   "metadata": {},
   "source": [
    "---\n",
    "\n",
    "**Once they hit their 25th birthday, many people suddenly save a lot of money on car insurance. Prompt the user for their age and convert to an integer (assume user enteres valid input). If they are under 25 tell them their car insurance must be high. Otherwise tell them they must have a lower insurance cost than a young adult.**"
   ]
  },
  {
   "cell_type": "code",
   "execution_count": null,
   "metadata": {},
   "outputs": [],
   "source": []
  },
  {
   "cell_type": "markdown",
   "metadata": {},
   "source": [
    "---\n",
    "\n",
    "**Write a while loop that prints the odd numbers from 1 - 15 inclusive**"
   ]
  },
  {
   "cell_type": "code",
   "execution_count": null,
   "metadata": {},
   "outputs": [],
   "source": []
  },
  {
   "cell_type": "code",
   "execution_count": null,
   "metadata": {},
   "outputs": [],
   "source": [
    "---\n",
    "\n"
   ]
  }
 ],
 "metadata": {
  "kernelspec": {
   "display_name": "Python 3",
   "language": "python",
   "name": "python3"
  },
  "language_info": {
   "codemirror_mode": {
    "name": "ipython",
    "version": 3
   },
   "file_extension": ".py",
   "mimetype": "text/x-python",
   "name": "python",
   "nbconvert_exporter": "python",
   "pygments_lexer": "ipython3",
   "version": "3.6.6"
  }
 },
 "nbformat": 4,
 "nbformat_minor": 2
}

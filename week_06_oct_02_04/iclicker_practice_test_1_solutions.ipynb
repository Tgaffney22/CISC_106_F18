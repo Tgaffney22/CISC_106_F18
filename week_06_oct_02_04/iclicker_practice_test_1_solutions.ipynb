{
 "cells": [
  {
   "cell_type": "markdown",
   "metadata": {},
   "source": [
    "# Solutions to the in-class iClicker Practice Test Questions\n",
    "\n",
    "## October 2, 2018\n",
    "\n",
    "[![Binder](https://mybinder.org/badge.svg)](https://mybinder.org/v2/gh/enac\n",
    "tdev/CISC_106_F18/master?week_06_oct_02_04/iclicker_practice_test_1_solutions.ipynb)"
   ]
  },
  {
   "cell_type": "markdown",
   "metadata": {},
   "source": [
    "---\n",
    "## 1) If you need to know what the int() function does, what command will you use:\n"
   ]
  },
  {
   "cell_type": "code",
   "execution_count": 1,
   "metadata": {},
   "outputs": [
    {
     "name": "stdout",
     "output_type": "stream",
     "text": [
      "Help on built-in function max in module builtins:\n",
      "\n",
      "max(...)\n",
      "    max(iterable, *[, default=obj, key=func]) -> value\n",
      "    max(arg1, arg2, *args, *[, key=func]) -> value\n",
      "    \n",
      "    With a single iterable argument, return its biggest item. The\n",
      "    default keyword-only argument specifies an object to return if\n",
      "    the provided iterable is empty.\n",
      "    With two or more arguments, return the largest argument.\n",
      "\n"
     ]
    }
   ],
   "source": [
    "help(max)"
   ]
  },
  {
   "cell_type": "markdown",
   "metadata": {},
   "source": [
    "---\n",
    "\n",
    "## Given:\n",
    "```\n",
    "my_int = 5\n",
    "larger_int = 7\n",
    "my_max_num = max(my_int, larger_int)\n",
    "```\n",
    "\n",
    "## 2) In the code above, what are the **arguments** to the ```max() function```?\n",
    "#### A) max\n",
    "#### B) my_int, larger_int\n",
    "#### C) max, my_max_num\n",
    "#### D) my_int, larger_int, my_max_num\n",
    "#### E) my_max_num\n",
    "\n",
    "### Answer: B"
   ]
  },
  {
   "cell_type": "markdown",
   "metadata": {},
   "source": [
    "--- \n",
    "## 3) What is the value of the variable ```n```\n"
   ]
  },
  {
   "cell_type": "code",
   "execution_count": 2,
   "metadata": {},
   "outputs": [
    {
     "name": "stdout",
     "output_type": "stream",
     "text": [
      "40\n"
     ]
    }
   ],
   "source": [
    "n = 5 * 7 + 2 * 3 - 1\n",
    "\n",
    "print(n)"
   ]
  },
  {
   "cell_type": "markdown",
   "metadata": {},
   "source": [
    "**Remember the precedence table from [\"How To Think Like a Computer Scientist\" Appendix](http://interactivepython.org/runestone/static/CS152f17/Appendices/PrecedenceTable.html). Multiplication (and /, //, %) happen before addition and subtraction. The above is equivelant to:**"
   ]
  },
  {
   "cell_type": "code",
   "execution_count": 3,
   "metadata": {},
   "outputs": [
    {
     "name": "stdout",
     "output_type": "stream",
     "text": [
      "40\n"
     ]
    }
   ],
   "source": [
    "n = (5 * 7) + (2 * 3) - 1\n",
    "\n",
    "print(n)"
   ]
  },
  {
   "cell_type": "markdown",
   "metadata": {},
   "source": [
    "---\n",
    "## 4) Above, var1 is ___ and var2 is ____\n"
   ]
  },
  {
   "cell_type": "code",
   "execution_count": 4,
   "metadata": {},
   "outputs": [
    {
     "name": "stdout",
     "output_type": "stream",
     "text": [
      "True False\n"
     ]
    }
   ],
   "source": [
    "x = True\n",
    "y = False\n",
    "var1 = not x or y and not y or x\n",
    "var2 = not (x and not y)\n",
    "\n",
    "print(var1, var2)"
   ]
  },
  {
   "cell_type": "markdown",
   "metadata": {},
   "source": [
    "**Remember the precedence table. In the above```not``` is evaluated first, then ```and```, and then ```or```. The three expressions joined by the two ```or``` operators only need to have one be True for it to be evaluated to ```True```. ```var1``` is the equivelant of:**"
   ]
  },
  {
   "cell_type": "code",
   "execution_count": 5,
   "metadata": {},
   "outputs": [
    {
     "name": "stdout",
     "output_type": "stream",
     "text": [
      "True\n"
     ]
    }
   ],
   "source": [
    "x = True\n",
    "y = False\n",
    "var1 = (not x) or (y and (not y)) or x\n",
    "\n",
    "print(var1)"
   ]
  },
  {
   "cell_type": "markdown",
   "metadata": {},
   "source": [
    "---\n",
    "## 5) How would you define a function called ```mult_by_three``` and then call it with variable ```my_int``` that has a value of 5?\n",
    "\n",
    "### Answer: D"
   ]
  },
  {
   "cell_type": "code",
   "execution_count": 6,
   "metadata": {},
   "outputs": [
    {
     "data": {
      "text/plain": [
       "15"
      ]
     },
     "execution_count": 6,
     "metadata": {},
     "output_type": "execute_result"
    }
   ],
   "source": [
    "def mult_by_three(a_number):\n",
    "    return a_number * 3\n",
    "my_int = 5\n",
    "mult_by_three(my_int)"
   ]
  },
  {
   "cell_type": "markdown",
   "metadata": {},
   "source": [
    "---\n",
    "## 6) How would you import the math library and then instantiate a variable ```pi_ceil``` with the ceiling of pi?\n",
    "\n",
    "### Answer: C"
   ]
  },
  {
   "cell_type": "code",
   "execution_count": 7,
   "metadata": {},
   "outputs": [
    {
     "name": "stdout",
     "output_type": "stream",
     "text": [
      "4\n"
     ]
    }
   ],
   "source": [
    "import math\n",
    "pi_ceil = math.ceil(math.pi)\n",
    "\n",
    "print(pi_ceil)"
   ]
  },
  {
   "cell_type": "markdown",
   "metadata": {},
   "source": [
    "---\n",
    "## 7) What is the value of ```n```\n",
    "\n"
   ]
  },
  {
   "cell_type": "code",
   "execution_count": 8,
   "metadata": {},
   "outputs": [
    {
     "name": "stdout",
     "output_type": "stream",
     "text": [
      "You passed: 5\n",
      "The value of n is: None\n"
     ]
    }
   ],
   "source": [
    "def my_function(an_int):\n",
    "       print(\"You passed:\",  an_int)\n",
    "        \n",
    "my_int = 5\n",
    "n = my_function(my_int)\n",
    "\n",
    "print('The value of n is:', n)"
   ]
  },
  {
   "cell_type": "markdown",
   "metadata": {},
   "source": [
    "--- \n",
    "## Given:\n",
    "```\n",
    "a = 3\n",
    "b = 2\n",
    "```\n",
    "\n",
    "## 8) Given the above values for a and b, which of the following will produce an error?\n",
    "\n",
    "**A, B, C, and D all work:**"
   ]
  },
  {
   "cell_type": "code",
   "execution_count": 9,
   "metadata": {},
   "outputs": [
    {
     "name": "stdout",
     "output_type": "stream",
     "text": [
      "3 5 3 2\n"
     ]
    }
   ],
   "source": [
    "a = 3\n",
    "b = 2\n",
    "a - b\n",
    "b = b + a\n",
    "x = b > a\n",
    "print(a, b, a % b, b % a)"
   ]
  },
  {
   "cell_type": "code",
   "execution_count": 10,
   "metadata": {},
   "outputs": [
    {
     "ename": "SyntaxError",
     "evalue": "can't assign to operator (<ipython-input-10-cfb0585fc8d5>, line 2)",
     "output_type": "error",
     "traceback": [
      "\u001b[0;36m  File \u001b[0;32m\"<ipython-input-10-cfb0585fc8d5>\"\u001b[0;36m, line \u001b[0;32m2\u001b[0m\n\u001b[0;31m    a * b = 6\u001b[0m\n\u001b[0m             ^\u001b[0m\n\u001b[0;31mSyntaxError\u001b[0m\u001b[0;31m:\u001b[0m can't assign to operator\n"
     ]
    }
   ],
   "source": [
    "# E produces an error:\n",
    "a * b = 6"
   ]
  },
  {
   "cell_type": "markdown",
   "metadata": {},
   "source": [
    "--- \n",
    "## Given:\n",
    "```\n",
    "my_num = input(\"Enter any number: \")\n",
    "half_my_num = my_num / 2\n",
    "print(half_my_num)\n",
    "\n",
    "```\n",
    "\n",
    "## 9) You're trying to input a number from a user and print half the value of what they entered, but your code isn't working. What should you change in the code above to fix it? (Assume the user follows directions and enters a number.)\n",
    "#### A) half_my_num = int(my_num / 2)\n",
    "#### B) my_num = int(input(\"Enter any whole number, or one with a decimal: \"))\n",
    "#### C) my_num = float(input(\"Enter any whole number, or one with a decimal: \"))\n",
    "#### D) half_my_num = float(my_num / 2)\n",
    "#### E) half_my_num = int(my_num) / 2\n",
    "\n",
    "### Answer: C (User can enter a float, so you should use the float() function instead of the int() function. In \"D\" my_num is still a string when you divide"
   ]
  },
  {
   "cell_type": "code",
   "execution_count": 11,
   "metadata": {},
   "outputs": [
    {
     "name": "stdout",
     "output_type": "stream",
     "text": [
      "Enter any whole number, or one with a decimal: 7.8\n",
      "3.9\n"
     ]
    }
   ],
   "source": [
    "my_num = float(input(\"Enter any whole number, or one with a decimal: \"))\n",
    "half_my_num = my_num / 2\n",
    "print(half_my_num)"
   ]
  },
  {
   "cell_type": "markdown",
   "metadata": {},
   "source": [
    "---\n",
    "## 10) What is the value of ```n``` above?\n"
   ]
  },
  {
   "cell_type": "code",
   "execution_count": 12,
   "metadata": {},
   "outputs": [
    {
     "name": "stdout",
     "output_type": "stream",
     "text": [
      "5\n"
     ]
    }
   ],
   "source": [
    "mylist = [6, 8, 12, 13]\n",
    "\n",
    "n = mylist[3] % mylist[1]\n",
    "\n",
    "print(n)"
   ]
  },
  {
   "cell_type": "markdown",
   "metadata": {},
   "source": [
    "---\n",
    "## 11) How many numbers are printed by the ```print()``` function above?\n",
    "### Answer: B) 10 numbers"
   ]
  },
  {
   "cell_type": "code",
   "execution_count": 13,
   "metadata": {},
   "outputs": [
    {
     "name": "stdout",
     "output_type": "stream",
     "text": [
      "0\n",
      "1\n",
      "2\n",
      "3\n",
      "4\n",
      "5\n",
      "6\n",
      "7\n",
      "8\n",
      "9\n"
     ]
    }
   ],
   "source": [
    "i = 0\n",
    "while i < 10:\n",
    "    print(i)\n",
    "    i+=1"
   ]
  },
  {
   "cell_type": "markdown",
   "metadata": {},
   "source": [
    "---\n",
    "## 12) What will be printed by the code above?\n"
   ]
  },
  {
   "cell_type": "code",
   "execution_count": 14,
   "metadata": {},
   "outputs": [
    {
     "name": "stdout",
     "output_type": "stream",
     "text": [
      "[10, 42, 30]\n"
     ]
    }
   ],
   "source": [
    "x = [10,20,30]\n",
    "x[1] = 42\n",
    "print(x)"
   ]
  },
  {
   "cell_type": "markdown",
   "metadata": {},
   "source": [
    "---\n",
    "## 13) What will be printed by the code above?\n"
   ]
  },
  {
   "cell_type": "code",
   "execution_count": 15,
   "metadata": {},
   "outputs": [
    {
     "name": "stdout",
     "output_type": "stream",
     "text": [
      "6 3\n"
     ]
    }
   ],
   "source": [
    "def swap(val1, val2):\n",
    "    tmp = val1\n",
    "    val1 = val2\n",
    "    val2 = tmp\n",
    "\n",
    "x = 6\n",
    "y = 3\n",
    "swap(x, y)\n",
    "print(x, y)"
   ]
  }
 ],
 "metadata": {
  "kernelspec": {
   "display_name": "Python 3",
   "language": "python",
   "name": "python3"
  },
  "language_info": {
   "codemirror_mode": {
    "name": "ipython",
    "version": 3
   },
   "file_extension": ".py",
   "mimetype": "text/x-python",
   "name": "python",
   "nbconvert_exporter": "python",
   "pygments_lexer": "ipython3",
   "version": "3.6.6"
  }
 },
 "nbformat": 4,
 "nbformat_minor": 2
}

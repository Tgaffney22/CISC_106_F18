{
 "cells": [
  {
   "cell_type": "markdown",
   "metadata": {},
   "source": [
    "# Potential Test 1 Gotcha Questions\n",
    "\n",
    "[![Binder](https://mybinder.org/badge.svg)](https://mybinder.org/v2/gh/enactdev/CISC_106_F18/master?filepath=potential_test_1_gotchas.ipynb)\n",
    "\n",
    "**Remember that the function ```input()``` *always* returns a string, which you need to convert to the datatype you need.**"
   ]
  },
  {
   "cell_type": "code",
   "execution_count": 1,
   "metadata": {},
   "outputs": [
    {
     "name": "stdout",
     "output_type": "stream",
     "text": [
      "What do you think the value of pi is?3.14\n",
      "You entered: 3.14 which has a datatype of: <class 'str'>\n",
      "Post conversion, the value will print the same: 3.14 but the data type is now: <class 'float'>\n"
     ]
    }
   ],
   "source": [
    "user_pi = input('What do you think the value of pi is?')\n",
    "\n",
    "print('You entered:', user_pi, 'which has a datatype of:', type(user_pi))\n",
    "\n",
    "user_pi_float = float(user_pi)\n",
    "\n",
    "print('Post conversion, the value will print the same:', user_pi_float, 'but the data type is now:', type(user_pi_float))\n"
   ]
  },
  {
   "cell_type": "markdown",
   "metadata": {},
   "source": [
    "---\n",
    "\n",
    "**Remember that an empty string evaluates to ```False```, but any non-empty string evaluates to ```True```.**"
   ]
  },
  {
   "cell_type": "code",
   "execution_count": 2,
   "metadata": {},
   "outputs": [
    {
     "name": "stdout",
     "output_type": "stream",
     "text": [
      "bool('') is: False\n",
      "bool('False') is: True\n"
     ]
    }
   ],
   "source": [
    "print(\"bool('') is:\", bool(''))\n",
    "print(\"bool('False') is:\", bool('False'))"
   ]
  },
  {
   "cell_type": "markdown",
   "metadata": {},
   "source": [
    "**Likewise the number 0 evaluates to ```False```, but any other numeric value evaluates to ```True```. This is true for both integers and floats**"
   ]
  },
  {
   "cell_type": "code",
   "execution_count": 3,
   "metadata": {},
   "outputs": [
    {
     "name": "stdout",
     "output_type": "stream",
     "text": [
      "bool(0) False\n",
      "bool(-1) True\n",
      "bool(10) True\n",
      "bool(0.0) False\n"
     ]
    }
   ],
   "source": [
    "print(\"bool(0)\", bool(0))\n",
    "print(\"bool(-1)\", bool(-1))\n",
    "print(\"bool(10)\", bool(10))\n",
    "print(\"bool(0.0)\", bool(0.0))"
   ]
  },
  {
   "cell_type": "markdown",
   "metadata": {},
   "source": [
    "**This is not on the first test, but will be on the second. Likewise an empty list evaluates to ```False```, but any other numeric value evaluates to ```True```.**"
   ]
  },
  {
   "cell_type": "code",
   "execution_count": 4,
   "metadata": {},
   "outputs": [
    {
     "name": "stdout",
     "output_type": "stream",
     "text": [
      "bool([]) False\n",
      "bool(['False']) True\n"
     ]
    }
   ],
   "source": [
    "print(\"bool([])\", bool([]))\n",
    "print(\"bool(['False'])\", bool(['False']))"
   ]
  },
  {
   "cell_type": "markdown",
   "metadata": {},
   "source": [
    "---\n",
    "\n",
    "**If you have a function call nested within a function call, the inner-most function call is called first, and the value is passed to the next inner-most function call.**"
   ]
  },
  {
   "cell_type": "code",
   "execution_count": 5,
   "metadata": {},
   "outputs": [
    {
     "name": "stdout",
     "output_type": "stream",
     "text": [
      "mult_by_two(2): 4\n",
      "mult_by_two(mult_by_two(2)): 8\n",
      "mult_by_two(mult_by_two(mult_by_two(2))): 16\n"
     ]
    }
   ],
   "source": [
    "def mult_by_two(n):\n",
    "    return n * 2\n",
    "\n",
    "print('mult_by_two(2):', mult_by_two(2))\n",
    "print('mult_by_two(mult_by_two(2)):', mult_by_two(mult_by_two(2)))\n",
    "print('mult_by_two(mult_by_two(mult_by_two(2))):', mult_by_two(mult_by_two(mult_by_two(2))))"
   ]
  },
  {
   "cell_type": "markdown",
   "metadata": {},
   "source": [
    "**So in the third example, ```mult_by_two(mult_by_two(mult_by_two(2)))```, ```mult_by_two(2)```, it's return value is then passed to the ```middle mult_by_two()``` function call, and that result is then passed to the first (leftmost) ```middle mult_by_two()``` function call.\n",
    "\n",
    "---\n",
    "\n",
    "**Finally, to definitively answer a question from class, yes the list method ```append()``` appears on the test. Just like the practice test, it is in the last (hardest) question, worth 4 points. The same exact help text is on this test as was on the practice:**\n",
    "\n",
    "* The list method append() will add an element to the list and return None. Your line using the append() method will look like this, and will not have an = sign on it:\n",
    " * ```my_list_name.append('new list item')```\n",
    " \n",
    "**Additionally, the last question also uses the ```in``` and/or the ```not in``` operator for lists. There is also help text on the test, based on this code example:**\n"
   ]
  },
  {
   "cell_type": "code",
   "execution_count": 6,
   "metadata": {},
   "outputs": [
    {
     "name": "stdout",
     "output_type": "stream",
     "text": [
      "The letter a is in my_list\n",
      "I added \"f\" to my_list, it is now: ['a', 'b', 'c', 'd', 'e', 'f']\n"
     ]
    }
   ],
   "source": [
    "my_list = ['a' ,'b', 'c', 'd', 'e']\n",
    "\n",
    "if 'a' in my_list:\n",
    "    print('The letter a is in my_list')\n",
    "    \n",
    "if 'f' not in my_list:\n",
    "    my_list.append('f')\n",
    "    print('I added \"f\" to my_list, it is now:', my_list)"
   ]
  }
 ],
 "metadata": {
  "kernelspec": {
   "display_name": "Python 3",
   "language": "python",
   "name": "python3"
  },
  "language_info": {
   "codemirror_mode": {
    "name": "ipython",
    "version": 3
   },
   "file_extension": ".py",
   "mimetype": "text/x-python",
   "name": "python",
   "nbconvert_exporter": "python",
   "pygments_lexer": "ipython3",
   "version": "3.6.6"
  }
 },
 "nbformat": 4,
 "nbformat_minor": 2
}

{
 "cells": [
  {
   "cell_type": "markdown",
   "metadata": {},
   "source": [
    "# CISC 106 Williams -- Test 1 Solutions\n",
    "\n",
    "[![Binder](https://mybinder.org/badge.svg)](https://mybinder.org/v2/gh/enactdev/CISC_106_F18/master?filepath=test_1_mult_choice_solutions.ipynb)"
   ]
  },
  {
   "cell_type": "markdown",
   "metadata": {},
   "source": [
    "---\n",
    "\n",
    "### Given:\n",
    "\n",
    "```\n",
    "bill_amount = input(\"Enter the total bill: \")\n",
    "my_half = bill_amount / 2\n",
    "print(round(my_half, 2))\n",
    "\n",
    "```\n",
    "\n",
    "### 1) You're splitting a restaurant bill with a friend, so you wrote a quick Python script to figure out your share, but it is not quite working. You want to accept any amount, including cents, and round it to two decimal places. What line should you fix above?\n",
    "* A) my_half = float(bill_amount / 2)\n",
    "* B) print(round(float(my_half), 2))\n",
    "* C) my_half = float(bill_amount) / 2\n",
    "* D) bill_amount = float(\"Enter the total bill: \")\n",
    "* E) print(round(float(my_half)))"
   ]
  },
  {
   "cell_type": "code",
   "execution_count": 1,
   "metadata": {},
   "outputs": [
    {
     "name": "stdout",
     "output_type": "stream",
     "text": [
      "Enter the total bill: 50.2\n",
      "25.1\n"
     ]
    }
   ],
   "source": [
    "bill_amount = input(\"Enter the total bill: \")\n",
    "# You must convert input to a float\n",
    "my_half = float(bill_amount) / 2\n",
    "print(round(my_half, 2))"
   ]
  },
  {
   "cell_type": "markdown",
   "metadata": {},
   "source": [
    "---\n",
    "### 2) Given:\n",
    "\n",
    "```\n",
    "n = 2 + 3 * 2 - 6 // 2\n",
    "```\n",
    "\n",
    "### 2) What is the value of ```n```\n",
    "* A) 7\n",
    "* B) 5\n",
    "* C) -4\n",
    "* D) 50\n",
    "* E) -10"
   ]
  },
  {
   "cell_type": "code",
   "execution_count": 2,
   "metadata": {},
   "outputs": [
    {
     "name": "stdout",
     "output_type": "stream",
     "text": [
      "n is: 5\n"
     ]
    }
   ],
   "source": [
    "n = 2 + 3 * 2 - 6 // 2\n",
    "# Answer:\n",
    "print('n is:', n)"
   ]
  },
  {
   "cell_type": "markdown",
   "metadata": {},
   "source": [
    "---\n",
    "\n",
    "### 3) Given:\n",
    "\n",
    "```\n",
    "def my_double(an_int):\n",
    "       print(\"You passed:\",  an_int)\n",
    "       2 * an_int\n",
    "       \n",
    "my_int = 7\n",
    "n = my_double(my_int)\n",
    "```\n",
    "\n",
    "### 3) What is the value of ```n```\n",
    "#### A) 14\n",
    "#### B) 7\n",
    "#### C) None\n",
    "#### D) \"You passed: 7\"\n",
    "#### E) An empty string\n"
   ]
  },
  {
   "cell_type": "code",
   "execution_count": 3,
   "metadata": {},
   "outputs": [
    {
     "name": "stdout",
     "output_type": "stream",
     "text": [
      "You passed: 7\n",
      "n is: None\n"
     ]
    }
   ],
   "source": [
    "def my_double(an_int):\n",
    "       print(\"You passed:\",  an_int)\n",
    "       2 * an_int\n",
    "\n",
    "my_int = 7\n",
    "n = my_double(my_int)\n",
    "# Answer:\n",
    "print('n is:', n)"
   ]
  },
  {
   "cell_type": "markdown",
   "metadata": {},
   "source": [
    "### 4) How would you import the math library and then instantiate a variable ```pi_floor``` with the floor of pi?\n",
    "```\n",
    "# A) \n",
    "import math\n",
    "pi_floor = math.floor(pi)\n",
    "\n",
    "# B) \n",
    "import math\n",
    "pi_floor = math.floor(math.pi)\n",
    "\n",
    "# C) \n",
    "import math\n",
    "pi_floor = floor(pi)\n",
    "\n",
    "# D) \n",
    "import math\n",
    "pi_floor = floor(math.pi)\n",
    "```\n"
   ]
  },
  {
   "cell_type": "code",
   "execution_count": 4,
   "metadata": {},
   "outputs": [
    {
     "name": "stdout",
     "output_type": "stream",
     "text": [
      "Not part of the question, but the value is: 3\n"
     ]
    }
   ],
   "source": [
    "import math\n",
    "pi_floor = math.floor(math.pi)\n",
    "# Extra\n",
    "print('Not part of the question, but the value is:', pi_floor)"
   ]
  },
  {
   "cell_type": "markdown",
   "metadata": {},
   "source": [
    "---\n",
    "\n",
    "### 5) How would you define a function called ```mult_by_two``` and then call it with variable ```my_int``` that has a value of 7?\n",
    "```\n",
    "# A) \n",
    "def mult_by_two(a_number):\n",
    "    return a_number * 2\n",
    "my_int_times_two = mult_by_two(7)\n",
    "\n",
    "# B) \n",
    "define mult_by_two(a_number):\n",
    "    return a_number * 2\n",
    "my_int = 7\n",
    "my_int_times_two = mult_by_two(my_int)\n",
    "\n",
    "# C) \n",
    "function mult_by_two(a_number):\n",
    "    return a_number * 2\n",
    "my_int = 7\n",
    "my_int_times_two = mult_by_two(my_int)\n",
    "\n",
    "# D) \n",
    "def mult_by_two(a_number):\n",
    "    return a_number * 2\n",
    "my_int = 7\n",
    "my_int_times_two = mult_by_two(my_int)\n",
    "```\n",
    "\n"
   ]
  },
  {
   "cell_type": "code",
   "execution_count": 5,
   "metadata": {},
   "outputs": [
    {
     "name": "stdout",
     "output_type": "stream",
     "text": [
      "Not part of the question, but the value is: 14\n"
     ]
    }
   ],
   "source": [
    "def mult_by_two(a_number):\n",
    "    return a_number * 2\n",
    "my_int = 7\n",
    "my_int_times_two = mult_by_two(my_int)\n",
    "# Extra\n",
    "print('Not part of the question, but the value is:', my_int_times_two)"
   ]
  },
  {
   "cell_type": "markdown",
   "metadata": {},
   "source": [
    "---\n",
    "\n",
    "### 6) Given:\n",
    "\n",
    "```\n",
    "x = False\n",
    "y = True\n",
    "var1 = not x and y or not y and x\n",
    "var2 = not (x or not y)\n",
    "print(var1, var2)\n",
    "```\n",
    "\n",
    "### 6) What is printed above?\n",
    "* A) True True\n",
    "* B) True False\n",
    "* C) False True\n",
    "* D) False False"
   ]
  },
  {
   "cell_type": "code",
   "execution_count": 6,
   "metadata": {},
   "outputs": [
    {
     "name": "stdout",
     "output_type": "stream",
     "text": [
      "True True\n"
     ]
    }
   ],
   "source": [
    "x = False\n",
    "y = True\n",
    "var1 = not x and y or not y and x\n",
    "var2 = not (x or not y)\n",
    "print(var1, var2)"
   ]
  },
  {
   "cell_type": "markdown",
   "metadata": {},
   "source": [
    "---\n",
    "\n",
    "### 7) Given:\n",
    "\n",
    "```\n",
    "my_list = [1, 2, 3, 4, 5]\n",
    "\n",
    "for i in range(len(my_list)):\n",
    "    my_list[i] = my_list[i] * 10\n",
    "\n",
    "my_list[3] = 42\n",
    "\n",
    "print(my_list)\n",
    "```\n",
    "\n",
    "### 7) What will be printed by the code above?\n",
    "* A) \\[1, 2, 3, 4, 5\\]\n",
    "* B) \\[1, 2, 3, 42, 5\\]\n",
    "* C) \\[10, 2, 3, 42, 5\\]\n",
    "* D) \\[10, 20, 30, 42, 50\\]\n",
    "\n"
   ]
  },
  {
   "cell_type": "code",
   "execution_count": 7,
   "metadata": {},
   "outputs": [
    {
     "name": "stdout",
     "output_type": "stream",
     "text": [
      "[10, 20, 30, 42, 50]\n"
     ]
    }
   ],
   "source": [
    "my_list = [1, 2, 3, 4, 5]\n",
    "\n",
    "for i in range(len(my_list)):\n",
    "    my_list[i] = my_list[i] * 10\n",
    "\n",
    "my_list[3] = 42\n",
    "\n",
    "print(my_list)"
   ]
  },
  {
   "cell_type": "markdown",
   "metadata": {},
   "source": [
    "---\n",
    "\n",
    "### 8) Given:\n",
    "\n",
    "```\n",
    "mylist = [1, 3, 7, 15, 31]\n",
    "\n",
    "n = mylist[3] % mylist[2]\n",
    "```\n",
    "\n",
    "### 8) What is the value of ```n``` above?\n",
    "* A) 0\n",
    "* B) 1\n",
    "* C) 2\n",
    "* D) 3\n",
    "* E) 4\n",
    "\n"
   ]
  },
  {
   "cell_type": "code",
   "execution_count": 8,
   "metadata": {},
   "outputs": [
    {
     "name": "stdout",
     "output_type": "stream",
     "text": [
      "n is: 1\n"
     ]
    }
   ],
   "source": [
    "mylist = [1, 3, 7, 15, 31]\n",
    "\n",
    "n = mylist[3] % mylist[2]\n",
    "\n",
    "# Answer:\n",
    "print('n is:', n)"
   ]
  },
  {
   "cell_type": "markdown",
   "metadata": {},
   "source": [
    "---\n",
    "\n",
    "### 9) Which expression tests whether the variable ```age``` is greater or equal to 18 and less than 25\n",
    "* A) (age == 18) and (age == 25)\n",
    "* B) (age > 18) and (age < 25)\n",
    "* C) (age > 18) and (age <= 25)\n",
    "* D) (age >= 18) and (age < 25)"
   ]
  },
  {
   "cell_type": "code",
   "execution_count": 9,
   "metadata": {},
   "outputs": [
    {
     "name": "stdout",
     "output_type": "stream",
     "text": [
      "When age is: 17 expression evaluation is: False\n",
      "When age is: 18 expression evaluation is: True\n",
      "When age is: 24 expression evaluation is: True\n",
      "When age is: 25 expression evaluation is: False\n"
     ]
    }
   ],
   "source": [
    "# D) (age >= 18) and (age < 25)\n",
    "\n",
    "# Solution in action \n",
    "for age in [17, 18, 24, 25]:\n",
    "    print('When age is:', age, 'expression evaluation is:', (age >= 18) and (age < 25))"
   ]
  },
  {
   "cell_type": "markdown",
   "metadata": {},
   "source": [
    "---\n",
    "\n",
    "### 10) Given:\n",
    "```\n",
    "my_list = ['a', 'b', 'c', 'd', 'e']\n",
    "```\n",
    "### 10) What is the difference between:\n",
    "```\n",
    "for item in my_list:\n",
    "   print(item)\n",
    "```\n",
    "### - and -\n",
    "```\n",
    "for i in range(len(my_list)):\n",
    "   print(i)\n",
    "```\n",
    "### ?:\n",
    "* A) The first block prints the indexes in the list, the second block prints the items in the list.\n",
    "* B) Nothing, they are the same.\n",
    "* C) The first block prints the items in the list, the second block prints the indexes in the list."
   ]
  },
  {
   "cell_type": "code",
   "execution_count": 10,
   "metadata": {},
   "outputs": [],
   "source": [
    "# C) The first block prints the items in the list, the second block prints \n",
    "# the indexes in the list."
   ]
  },
  {
   "cell_type": "markdown",
   "metadata": {},
   "source": [
    "---\n",
    "\n",
    "### 11) Given:\n",
    "```\n",
    "message1 = \"Welcome to CISC 106!\"\n",
    "message2 = \"I hope you enjoy the class.\"\n",
    "```\n",
    "### 11) What will be the output?\n",
    "* A) Welcome to CISC 106!\n",
    "* B) I hope you enjoy the class.\n",
    "* C) ```Welcome to CISC 106!\n",
    "I hope you enjoy the class.```\n",
    "* D) An Error\n",
    "* E) No output"
   ]
  },
  {
   "cell_type": "code",
   "execution_count": 11,
   "metadata": {},
   "outputs": [],
   "source": [
    "message1 = \"Welcome to CISC 106!\"\n",
    "message2 = \"I hope you enjoy the class.\""
   ]
  },
  {
   "cell_type": "code",
   "execution_count": 12,
   "metadata": {},
   "outputs": [],
   "source": [
    "# E) No output"
   ]
  },
  {
   "cell_type": "markdown",
   "metadata": {},
   "source": [
    "---\n",
    "\n",
    "### 12) Given:\n",
    "\n",
    "```\n",
    "a = 5\n",
    "b = 10\n",
    "```\n",
    "\n",
    "### 12) Given the above values for a and b, which of the following will produce an error?\n",
    "* A) my_div = a // b\n",
    "* B) my_diff = b - a\n",
    "* C) my_sum = a b\n",
    "* D) print(a, b, a / b, b / a)\n",
    "* E) x = b > a"
   ]
  },
  {
   "cell_type": "code",
   "execution_count": 13,
   "metadata": {},
   "outputs": [
    {
     "ename": "SyntaxError",
     "evalue": "invalid syntax (<ipython-input-13-ed8594990b87>, line 4)",
     "output_type": "error",
     "traceback": [
      "\u001b[0;36m  File \u001b[0;32m\"<ipython-input-13-ed8594990b87>\"\u001b[0;36m, line \u001b[0;32m4\u001b[0m\n\u001b[0;31m    my_sum = a b\u001b[0m\n\u001b[0m               ^\u001b[0m\n\u001b[0;31mSyntaxError\u001b[0m\u001b[0;31m:\u001b[0m invalid syntax\n"
     ]
    }
   ],
   "source": [
    "a = 5\n",
    "b = 10\n",
    "\n",
    "my_sum = a b"
   ]
  },
  {
   "cell_type": "markdown",
   "metadata": {},
   "source": [
    "---\n",
    "\n",
    "### Given:\n",
    "```\n",
    "my_list = ['a', 'b', 'c', 'd', 'e']\n",
    "\n",
    "for i in [0, 2, 4]:\n",
    "    my_list[i] = my_list[i].upper()\n",
    "\n",
    "print(my_list)\n",
    "```\n",
    "### 13) What is printed?\n",
    "* A) \\['a', 'b', 'c', 'd', 'e'\\]\n",
    "* B) \\['A', 'b', 'c', 'd', 'e'\\]\n",
    "* C) \\['a', 'b', 'C', 'd', 'e'\\]\n",
    "* D) \\['a', 'b', 'c', 'D', 'E'\\]\n",
    "* E) \\['A', 'b', 'C', 'd', 'E'\\]"
   ]
  },
  {
   "cell_type": "code",
   "execution_count": 14,
   "metadata": {},
   "outputs": [
    {
     "name": "stdout",
     "output_type": "stream",
     "text": [
      "['A', 'b', 'C', 'd', 'E']\n"
     ]
    }
   ],
   "source": [
    "my_list = ['a', 'b', 'c', 'd', 'e']\n",
    "\n",
    "for i in [0, 2, 4]:\n",
    "    my_list[i] = my_list[i].upper()\n",
    "\n",
    "print(my_list)"
   ]
  },
  {
   "cell_type": "markdown",
   "metadata": {},
   "source": [
    "---\n",
    "\n",
    "### 14) Given\n",
    "```\n",
    "my_number = input(\"Enter a float with a decimal\")\n",
    "```\n",
    "### 14) What is the data type of my_number?\n",
    "* A) bool\n",
    "* B) float\n",
    "* C) str\n",
    "* D) int\n",
    "* E) assignment"
   ]
  },
  {
   "cell_type": "code",
   "execution_count": 15,
   "metadata": {},
   "outputs": [
    {
     "name": "stdout",
     "output_type": "stream",
     "text": [
      "Enter a float with a decimal7.6\n",
      "<class 'str'>\n"
     ]
    }
   ],
   "source": [
    "my_number = input(\"Enter a float with a decimal\")\n",
    "\n",
    "print(type(my_number))"
   ]
  },
  {
   "cell_type": "markdown",
   "metadata": {},
   "source": [
    "---\n",
    "\n",
    "### 15) Given:\n",
    "```\n",
    "i = 0\n",
    "while i < 10:\n",
    "    print(i)\n",
    "    i = i + 2\n",
    "```\n",
    "### 15) How many times is the line ```while i < 10:``` evaluated? (In other words, how many times is that test performed)\n",
    "* A) 5 times\n",
    "* B) 6 times\n",
    "* C) 7 times\n",
    "* D) 10 times\n",
    "* E) 11 times"
   ]
  },
  {
   "cell_type": "code",
   "execution_count": 16,
   "metadata": {},
   "outputs": [
    {
     "name": "stdout",
     "output_type": "stream",
     "text": [
      "0\n",
      "2\n",
      "4\n",
      "6\n",
      "8\n"
     ]
    }
   ],
   "source": [
    "i = 0\n",
    "while i < 10:\n",
    "    print(i)\n",
    "    i = i + 2"
   ]
  },
  {
   "cell_type": "code",
   "execution_count": 17,
   "metadata": {},
   "outputs": [],
   "source": [
    "# Five numbers are printed by the print() function, therefore \"while i < 10:\" was\n",
    "# evaluated 6 times. Answer: B"
   ]
  },
  {
   "cell_type": "markdown",
   "metadata": {},
   "source": [
    "---\n",
    "### 16) Add parenthesis to ```7 * 6 * 2 + 8 // 3``` while maintining precedence\n",
    "* A) (7 \\* 6) \\* (2 + (8 // 3))\n",
    "* B) (7 \\* (6 \\* 2)) + (8 // 3)\n",
    "* C) ((7 \\* 6) \\* 2) + (8 // 3)\n",
    "* D) (7 \\* (6 \\* (2 + 8))) // 3"
   ]
  },
  {
   "cell_type": "code",
   "execution_count": 18,
   "metadata": {},
   "outputs": [
    {
     "name": "stdout",
     "output_type": "stream",
     "text": [
      "86\n"
     ]
    }
   ],
   "source": [
    "print(7 * 6 * 2 + 8 // 3)"
   ]
  },
  {
   "cell_type": "code",
   "execution_count": 19,
   "metadata": {},
   "outputs": [
    {
     "name": "stdout",
     "output_type": "stream",
     "text": [
      "86\n"
     ]
    }
   ],
   "source": [
    "# Answer C:\n",
    "print(((7 * 6) * 2) + (8 // 3))"
   ]
  },
  {
   "cell_type": "markdown",
   "metadata": {},
   "source": [
    "---\n",
    "\n",
    "## 17) Which loop will print even numbers from 2 (inclusive) to 16 (inclusive)?\n",
    "\n",
    "```\n",
    "# A) \n",
    "n = 0\n",
    "while n <= 16:\n",
    "    print(n)\n",
    "    n += 2\n",
    "\n",
    "# B) \n",
    "n = 2\n",
    "while n <= 16:\n",
    "    print(n)\n",
    "    n += 2\n",
    "\n",
    "# C) \n",
    "n = 0\n",
    "while n < 16:\n",
    "    print(n)\n",
    "    n += 2\n",
    "\n",
    "# D) \n",
    "n = 2\n",
    "while n < 16:\n",
    "    print(n)\n",
    "    n += 2\n",
    "```\n"
   ]
  },
  {
   "cell_type": "code",
   "execution_count": 20,
   "metadata": {},
   "outputs": [
    {
     "name": "stdout",
     "output_type": "stream",
     "text": [
      "2\n",
      "4\n",
      "6\n",
      "8\n",
      "10\n",
      "12\n",
      "14\n",
      "16\n"
     ]
    }
   ],
   "source": [
    "n = 2\n",
    "while n <= 16:\n",
    "    print(n)\n",
    "    n += 2"
   ]
  },
  {
   "cell_type": "markdown",
   "metadata": {},
   "source": [
    "---\n",
    "\n",
    "### 18) Given\n",
    "```\n",
    "a = bool(str('0'))\n",
    "b = bool(int('0'))\n",
    "\n",
    "print(a, b)\n",
    "```\n",
    "\n",
    "### 18) What is printed above?\n",
    "* A) True True\n",
    "* B) True False\n",
    "* C) False True\n",
    "* D) False False"
   ]
  },
  {
   "cell_type": "code",
   "execution_count": 21,
   "metadata": {},
   "outputs": [
    {
     "name": "stdout",
     "output_type": "stream",
     "text": [
      "True False\n"
     ]
    }
   ],
   "source": [
    "a = bool(str('0'))\n",
    "b = bool(int('0'))\n",
    "\n",
    "print(a, b)"
   ]
  },
  {
   "cell_type": "markdown",
   "metadata": {},
   "source": [
    "---\n",
    "\n",
    "### 19) Assume the variable ```cost``` currently holds the value of items being purchased. A user has a coupon for 20% off. Which expression updates the ```cost``` variable accordingly?\n",
    "* A) cost * 0.8\n",
    "* B) cost * 0.2\n",
    "* C) cost = cost * 0.8\n",
    "* D) cost = cost * 0.2"
   ]
  },
  {
   "cell_type": "code",
   "execution_count": 22,
   "metadata": {},
   "outputs": [
    {
     "name": "stdout",
     "output_type": "stream",
     "text": [
      "80.0\n"
     ]
    }
   ],
   "source": [
    "# C) cost = cost * 0.8\n",
    "\n",
    "# Example\n",
    "cost = 100\n",
    "cost = cost * 0.8\n",
    "print(cost)"
   ]
  },
  {
   "cell_type": "markdown",
   "metadata": {},
   "source": [
    "---\n",
    "\n",
    "### 20) Which expression, A-D, will cause an error? If none select E.\n",
    "* A) 2018_cost = 100\n",
    "* B) cost_2018 = 100\n",
    "* C) cost = 100\n",
    "* D) cost == 100\n",
    "* E) None of these cause an error"
   ]
  },
  {
   "cell_type": "code",
   "execution_count": 23,
   "metadata": {},
   "outputs": [
    {
     "ename": "SyntaxError",
     "evalue": "invalid token (<ipython-input-23-8b03e27fc1be>, line 1)",
     "output_type": "error",
     "traceback": [
      "\u001b[0;36m  File \u001b[0;32m\"<ipython-input-23-8b03e27fc1be>\"\u001b[0;36m, line \u001b[0;32m1\u001b[0m\n\u001b[0;31m    2018_cost = 100\u001b[0m\n\u001b[0m        ^\u001b[0m\n\u001b[0;31mSyntaxError\u001b[0m\u001b[0;31m:\u001b[0m invalid token\n"
     ]
    }
   ],
   "source": [
    "2018_cost = 100"
   ]
  },
  {
   "cell_type": "markdown",
   "metadata": {},
   "source": [
    "---\n",
    "\n",
    "### 21) Given\n",
    "```\n",
    "def mystery_return(a, b):\n",
    "    return _________\n",
    "\n",
    "assertEqual(mystery_return(75, 65), True)\n",
    "assertEqual(mystery_return(65, 75), False)\n",
    "assertEqual(mystery_return(50, 50), True)\n",
    "```\n",
    "\n",
    "### 21) Assume the assertEqual statements are all correct. Fill in the blank part of the function ```mystery_return()```:\n",
    "* A) a == b\n",
    "* B) a > b\n",
    "* C) a < b\n",
    "* D) a >= b\n",
    "* E) a <= b"
   ]
  },
  {
   "cell_type": "code",
   "execution_count": 24,
   "metadata": {},
   "outputs": [
    {
     "name": "stdout",
     "output_type": "stream",
     "text": [
      "SUCCESS - [line 5] assertEqual(mystery_return(75, 65), True)\n",
      "SUCCESS - [line 6] assertEqual(mystery_return(65, 75), False)\n",
      "SUCCESS - [line 7] assertEqual(mystery_return(50, 50), True)\n"
     ]
    },
    {
     "data": {
      "text/plain": [
       "True"
      ]
     },
     "execution_count": 24,
     "metadata": {},
     "output_type": "execute_result"
    }
   ],
   "source": [
    "from cisc106 import assertEqual\n",
    "def mystery_return(a, b):\n",
    "    return a >= b\n",
    "\n",
    "assertEqual(mystery_return(75, 65), True)\n",
    "assertEqual(mystery_return(65, 75), False)\n",
    "assertEqual(mystery_return(50, 50), True)"
   ]
  },
  {
   "cell_type": "markdown",
   "metadata": {},
   "source": [
    "---\n",
    "\n",
    "### 22 & 23) (Use this for two!) Given\n",
    "```\n",
    "def my_calculation(a, b):\n",
    "    if a > b:\n",
    "        return a * b\n",
    "    elif a < b:\n",
    "        return a + b\n",
    "    else:\n",
    "        return 1\n",
    "```\n",
    "\n",
    "### 22) What is printed by the statement ```print(my_calculation(5, 6))```\n",
    "* A) 30\n",
    "* B) 11\n",
    "* C) 1\n",
    "* D) -1\n",
    "* E) An error message"
   ]
  },
  {
   "cell_type": "code",
   "execution_count": 25,
   "metadata": {},
   "outputs": [
    {
     "name": "stdout",
     "output_type": "stream",
     "text": [
      "11\n"
     ]
    }
   ],
   "source": [
    "def my_calculation(a, b):\n",
    "    if a > b:\n",
    "        return a * b\n",
    "    elif a < b:\n",
    "        return a + b\n",
    "    else:\n",
    "        return 1\n",
    "\n",
    "print(my_calculation(5, 6))"
   ]
  },
  {
   "cell_type": "markdown",
   "metadata": {},
   "source": [
    "---\n",
    "\n",
    "### 23) What is printed by the statement ```print(my_calculation(my_calculation(2, 3), 7))```\n",
    "* A) 30\n",
    "* B) 10\n",
    "* C) 11\n",
    "* D) 12\n",
    "* E) An error message"
   ]
  },
  {
   "cell_type": "code",
   "execution_count": 26,
   "metadata": {},
   "outputs": [
    {
     "name": "stdout",
     "output_type": "stream",
     "text": [
      "12\n"
     ]
    }
   ],
   "source": [
    "print(my_calculation(my_calculation(2, 3), 7))"
   ]
  },
  {
   "cell_type": "markdown",
   "metadata": {},
   "source": [
    "---\n",
    "\n",
    "### 24) If you need to know what the range() function does, what command will you use:\n",
    "* A) docstring(range)\n",
    "* B) help(range())\n",
    "* C) from help import range\n",
    "* D) help(range)\n",
    "* E) # Docstring range"
   ]
  },
  {
   "cell_type": "code",
   "execution_count": 27,
   "metadata": {},
   "outputs": [
    {
     "name": "stdout",
     "output_type": "stream",
     "text": [
      "Help on class range in module builtins:\n",
      "\n",
      "class range(object)\n",
      " |  range(stop) -> range object\n",
      " |  range(start, stop[, step]) -> range object\n",
      " |  \n",
      " |  Return an object that produces a sequence of integers from start (inclusive)\n",
      " |  to stop (exclusive) by step.  range(i, j) produces i, i+1, i+2, ..., j-1.\n",
      " |  start defaults to 0, and stop is omitted!  range(4) produces 0, 1, 2, 3.\n",
      " |  These are exactly the valid indices for a list of 4 elements.\n",
      " |  When step is given, it specifies the increment (or decrement).\n",
      " |  \n",
      " |  Methods defined here:\n",
      " |  \n",
      " |  __bool__(self, /)\n",
      " |      self != 0\n",
      " |  \n",
      " |  __contains__(self, key, /)\n",
      " |      Return key in self.\n",
      " |  \n",
      " |  __eq__(self, value, /)\n",
      " |      Return self==value.\n",
      " |  \n",
      " |  __ge__(self, value, /)\n",
      " |      Return self>=value.\n",
      " |  \n",
      " |  __getattribute__(self, name, /)\n",
      " |      Return getattr(self, name).\n",
      " |  \n",
      " |  __getitem__(self, key, /)\n",
      " |      Return self[key].\n",
      " |  \n",
      " |  __gt__(self, value, /)\n",
      " |      Return self>value.\n",
      " |  \n",
      " |  __hash__(self, /)\n",
      " |      Return hash(self).\n",
      " |  \n",
      " |  __iter__(self, /)\n",
      " |      Implement iter(self).\n",
      " |  \n",
      " |  __le__(self, value, /)\n",
      " |      Return self<=value.\n",
      " |  \n",
      " |  __len__(self, /)\n",
      " |      Return len(self).\n",
      " |  \n",
      " |  __lt__(self, value, /)\n",
      " |      Return self<value.\n",
      " |  \n",
      " |  __ne__(self, value, /)\n",
      " |      Return self!=value.\n",
      " |  \n",
      " |  __new__(*args, **kwargs) from builtins.type\n",
      " |      Create and return a new object.  See help(type) for accurate signature.\n",
      " |  \n",
      " |  __reduce__(...)\n",
      " |      helper for pickle\n",
      " |  \n",
      " |  __repr__(self, /)\n",
      " |      Return repr(self).\n",
      " |  \n",
      " |  __reversed__(...)\n",
      " |      Return a reverse iterator.\n",
      " |  \n",
      " |  count(...)\n",
      " |      rangeobject.count(value) -> integer -- return number of occurrences of value\n",
      " |  \n",
      " |  index(...)\n",
      " |      rangeobject.index(value, [start, [stop]]) -> integer -- return index of value.\n",
      " |      Raise ValueError if the value is not present.\n",
      " |  \n",
      " |  ----------------------------------------------------------------------\n",
      " |  Data descriptors defined here:\n",
      " |  \n",
      " |  start\n",
      " |  \n",
      " |  step\n",
      " |  \n",
      " |  stop\n",
      "\n"
     ]
    }
   ],
   "source": [
    "help(range)"
   ]
  },
  {
   "cell_type": "markdown",
   "metadata": {},
   "source": [
    "---\n",
    "\n",
    "### 25) Given:\n",
    "\n",
    "```\n",
    "my_int = 5\n",
    "my_larger_int = 12\n",
    "my_min_num = min(my_int, my_larger_int)\n",
    "```\n",
    "\n",
    "### 25) In the code above, what are the **arguments** to the ```min()``` function?\n",
    "* A) min\n",
    "* B) my_min_num\n",
    "* C) min, my_min_num\n",
    "* D) my_int, my_larger_int, my_min_num\n",
    "* E) my_int, my_larger_int\n"
   ]
  },
  {
   "cell_type": "code",
   "execution_count": 28,
   "metadata": {},
   "outputs": [],
   "source": [
    "#E) my_int, my_larger_int"
   ]
  }
 ],
 "metadata": {
  "kernelspec": {
   "display_name": "Python 3",
   "language": "python",
   "name": "python3"
  },
  "language_info": {
   "codemirror_mode": {
    "name": "ipython",
    "version": 3
   },
   "file_extension": ".py",
   "mimetype": "text/x-python",
   "name": "python",
   "nbconvert_exporter": "python",
   "pygments_lexer": "ipython3",
   "version": "3.6.6"
  }
 },
 "nbformat": 4,
 "nbformat_minor": 2
}
